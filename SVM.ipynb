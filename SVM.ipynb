{
 "cells": [
  {
   "cell_type": "code",
   "execution_count": 1,
   "metadata": {},
   "outputs": [],
   "source": [
    "import numpy as np\n",
    "from utils import get_data, accuracy, save_Yte\n",
    "from kernels import GaussianKernel, LinearKernel\n",
    "from tqdm import tqdm\n",
    "from scipy import optimize\n",
    "\n",
    "Xtr, Xte, Ytr = get_data()"
   ]
  },
  {
   "cell_type": "code",
   "execution_count": 2,
   "metadata": {},
   "outputs": [],
   "source": [
    "Xtr = Xtr[:,:1024:512]\n",
    "Xte = Xte[:,:1024:512]"
   ]
  },
  {
   "cell_type": "code",
   "execution_count": 3,
   "metadata": {},
   "outputs": [
    {
     "data": {
      "text/plain": [
       "(5000, 2)"
      ]
     },
     "execution_count": 3,
     "metadata": {},
     "output_type": "execute_result"
    }
   ],
   "source": [
    "Xtr.shape"
   ]
  },
  {
   "cell_type": "code",
   "execution_count": 4,
   "metadata": {},
   "outputs": [],
   "source": [
    "class KSVC:\n",
    "    \n",
    "    def __init__(self, kernel, C, class_id, epsilon, verbose):\n",
    "        self.kernel = kernel        \n",
    "        self.C = C                               \n",
    "        self.alpha = None\n",
    "        self.support = None\n",
    "        self.epsilon = epsilon\n",
    "        self.norm_f = None \n",
    "        self.verbose = verbose \n",
    "        self.class_id = class_id \n",
    "       \n",
    "    def fit(self, X, y, K):\n",
    "        if self.verbose: print(\"Fitting...\")\n",
    "        N = len(y)\n",
    "        # K = self.kernel(X,X)\n",
    "        self.X = X\n",
    "        # self.y = y\n",
    "        self.y = (y == self.class_id)\n",
    "\n",
    "        # Lagrange dual problem\n",
    "        def loss(alpha):\n",
    "            return 1/2 * alpha.T @ np.diag(y) @ K @ np.diag(y) @ alpha - alpha.sum()\n",
    "        # Partial derivate of Ld on alpha\n",
    "        def grad_loss(alpha):\n",
    "            return np.diag(y) @ K @ np.diag(y) @ alpha - 1\n",
    "\n",
    "        fun_eq = lambda alpha: - alpha.T @ y\n",
    "        jac_eq = lambda alpha: - y\n",
    "        fun_ineq = lambda alpha: self.C - alpha\n",
    "        jac_ineq = lambda alpha: - np.eye(N)\n",
    "        fun_ineq_pos = lambda alpha: alpha\n",
    "        jac_ineq_pos = lambda alpha: np.eye(N)\n",
    "        \n",
    "        constraints = ({'type': 'eq',  'fun': fun_eq, 'jac': jac_eq},\n",
    "                       {'type': 'ineq', 'fun': fun_ineq , 'jac': jac_ineq},\n",
    "                       {'type': 'ineq', 'fun': fun_ineq_pos, 'jac': jac_ineq_pos})\n",
    "\n",
    "        optRes = optimize.minimize(fun=lambda alpha: loss(alpha),\n",
    "                                   x0=np.ones(N), \n",
    "                                   method='SLSQP', \n",
    "                                   jac=lambda alpha: grad_loss(alpha), \n",
    "                                   constraints=constraints)\n",
    "        self.alpha = optRes.x\n",
    "\n",
    "        self.supportIndices = np.where((self.alpha > self.epsilon) & (self.alpha < self.C*np.ones(N) - self.epsilon))\n",
    "        self.support = X[self.supportIndices]\n",
    "        self.b = (self.y - self.alpha.T @ np.diag(self.y) @ K)[self.supportIndices].mean()\n",
    "        self.norm_f = self.alpha.T @ np.diag(self.y) @ K @ np.diag(self.y) @ self.alpha\n",
    "\n",
    "    def predict(self, K):\n",
    "        if self.verbose: print(\"Predicting...\")\n",
    "        d = self.alpha.T @ np.diag(self.y) @ K\n",
    "        return d + self.b\n",
    "\n",
    "class MultiKSVC:\n",
    "\n",
    "    def __init__(self, kernel, C, epsilon=1e-3, verbose=False):\n",
    "        self.C = C        \n",
    "        self.kernel = kernel        \n",
    "        self.epsilon = epsilon        \n",
    "        self.verbose = verbose\n",
    "        self.KSVC_list = [KSVC(self.kernel, self.C, self.epsilon, class_id, self.verbose) for class_id in range(10)]\n",
    "    \n",
    "    def fit(self, X, y):\n",
    "        self.X = X\n",
    "        K = self.kernel(X,X)\n",
    "        for ksvc in tqdm(self.KSVC_list, desc=\"Fitting\"):\n",
    "            ksvc.fit(X, y, K)\n",
    "    \n",
    "    def predict(self, x):\n",
    "        K = self.kernel(self.X, x)\n",
    "        pred = np.array([ksvc.predict(K) for ksvc in self.KSVC_list]).T\n",
    "        pred = np.argmax(pred, axis=1)\n",
    "        return pred"
   ]
  },
  {
   "cell_type": "code",
   "execution_count": 5,
   "metadata": {},
   "outputs": [
    {
     "name": "stderr",
     "output_type": "stream",
     "text": [
      "Fitting:   0%|          | 0/10 [00:00<?, ?it/s]"
     ]
    }
   ],
   "source": [
    "ksvc = MultiKSVC(kernel=GaussianKernel(sigma=1.5).kernel, C=100.)\n",
    "ksvc.fit(Xtr, Ytr)\n",
    "pred_test = ksvc.predict(Xte)\n",
    "pred_train = ksvc.predict(Xtr)"
   ]
  },
  {
   "cell_type": "code",
   "execution_count": null,
   "metadata": {},
   "outputs": [],
   "source": []
  }
 ],
 "metadata": {
  "interpreter": {
   "hash": "aa30f91dbb17c0a3b91780755c9c6907c421c361796d059d67ffdc7b39984a01"
  },
  "kernelspec": {
   "display_name": "Python 3.8.0 ('mit-torch')",
   "language": "python",
   "name": "python3"
  },
  "language_info": {
   "codemirror_mode": {
    "name": "ipython",
    "version": 3
   },
   "file_extension": ".py",
   "mimetype": "text/x-python",
   "name": "python",
   "nbconvert_exporter": "python",
   "pygments_lexer": "ipython3",
   "version": "3.8.0"
  },
  "orig_nbformat": 4
 },
 "nbformat": 4,
 "nbformat_minor": 2
}
