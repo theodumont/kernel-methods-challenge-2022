{
 "cells": [
  {
   "cell_type": "code",
   "execution_count": 2,
   "metadata": {},
   "outputs": [
    {
     "name": "stdout",
     "output_type": "stream",
     "text": [
      "9\n",
      "0\n"
     ]
    }
   ],
   "source": [
    "import numpy as np\n",
    "from utils import get_data\n",
    "from kernels import GaussianKernel, LinearKernel\n",
    "\n",
    "Xtr, Xte, Ytr = get_data()"
   ]
  },
  {
   "cell_type": "code",
   "execution_count": 3,
   "metadata": {},
   "outputs": [],
   "source": [
    "GaussianKernel().kernel(Xtr, Xtr)"
   ]
  },
  {
   "cell_type": "code",
   "execution_count": 55,
   "metadata": {},
   "outputs": [],
   "source": [
    "class OneKRR:\n",
    "    \n",
    "    def __init__(self, kernel, lambd=1e-3, verbose=False):\n",
    "        self.kernel = kernel        \n",
    "        self.lambd = lambd        \n",
    "        self.alpha = None\n",
    "        self.verbose = verbose\n",
    "       \n",
    "    def fit(self, X, y):\n",
    "        if self.verbose: print(\"Fitting...\")\n",
    "        n = len(y)\n",
    "        K = self.kernel(X,X)\n",
    "        self.X = X\n",
    "        self.y = y\n",
    "        self.alpha = np.linalg.inv(K + self.lambd * n * np.eye(n)) @ self.y\n",
    "\n",
    "    def predict(self, x):\n",
    "        if self.verbose: print(\"Predicting...\")\n",
    "        pred = self.kernel(x,self.X) @ self.alpha\n",
    "        pred = np.rint(pred)\n",
    "        pred = np.clip(pred, 0, 9)\n",
    "        return pred\n",
    "\n",
    "class KRR:\n",
    "    \n",
    "    def __init__(self, kernel, class_id, lambd, verbose):\n",
    "        self.kernel = kernel        \n",
    "        self.lambd = lambd        \n",
    "        self.class_id = class_id        \n",
    "        self.alpha = None\n",
    "        self.verbose = verbose\n",
    "       \n",
    "    def fit(self, X, y, K):\n",
    "        if self.verbose: print(\"Fitting...\")\n",
    "        n = len(y)\n",
    "        self.X = X\n",
    "        self.y = (y == self.class_id)\n",
    "        self.alpha = np.linalg.inv(K + self.lambd * n * np.eye(n)) @ self.y\n",
    "\n",
    "    def predict(self, x, Kk):\n",
    "        if self.verbose: print(\"Predicting...\")\n",
    "        pred = Kk @ self.alpha\n",
    "        return pred\n",
    "\n",
    "class MultiKRR:\n",
    "\n",
    "    def __init__(self, kernel, lambd=1e-3, verbose=False):\n",
    "        self.kernel = kernel        \n",
    "        self.lambd = lambd        \n",
    "        self.verbose = verbose\n",
    "        self.KRR_list = [KRR(self.kernel, class_id, self.lambd, self.verbose) for class_id in range(10)]\n",
    "    \n",
    "    def fit(self, X, y):\n",
    "        K = self.kernel(X,X)\n",
    "        for krr in tqdm(self.KRR_list, desc=\"Fitting\"):\n",
    "            krr.fit(X, y, K)\n",
    "    \n",
    "    def predict(self, x):\n",
    "        Kk = self.kernel(x,self.X)\n",
    "        pred = np.array([krr.predict(x, Kk) for krr in self.KRR_list]).T\n",
    "        pred = np.argmax(pred, axis=1)\n",
    "        return pred"
   ]
  },
  {
   "cell_type": "code",
   "execution_count": 56,
   "metadata": {},
   "outputs": [],
   "source": [
    "def MSE(gt, pr):\n",
    "    return ((gt - pr) ** 2).mean()\n",
    "\n",
    "def accuracy(gt, pr):\n",
    "    return (gt == pr).mean()"
   ]
  },
  {
   "cell_type": "code",
   "execution_count": 50,
   "metadata": {},
   "outputs": [
    {
     "name": "stderr",
     "output_type": "stream",
     "text": [
      "Fitting: 100%|██████████| 10/10 [01:13<00:00,  7.32s/it]\n"
     ]
    }
   ],
   "source": [
    "krr = MultiKRR(kernel=GaussianKernel().kernel)\n",
    "krr.fit(Xtr, Ytr)\n",
    "pred_test = krr.predict(Xte)\n",
    "pred_train = krr.predict(Xtr)"
   ]
  },
  {
   "cell_type": "code",
   "execution_count": 51,
   "metadata": {},
   "outputs": [
    {
     "name": "stdout",
     "output_type": "stream",
     "text": [
      "0.7578\n"
     ]
    }
   ],
   "source": [
    "print(accuracy(Ytr, pred_train))"
   ]
  },
  {
   "cell_type": "code",
   "execution_count": 52,
   "metadata": {},
   "outputs": [
    {
     "name": "stderr",
     "output_type": "stream",
     "text": [
      "Fitting: 100%|██████████| 10/10 [01:16<00:00,  7.67s/it]\n",
      "Fitting: 100%|██████████| 10/10 [01:40<00:00, 10.05s/it]\n",
      "Fitting: 100%|██████████| 10/10 [01:43<00:00, 10.40s/it]\n",
      "Fitting: 100%|██████████| 10/10 [01:43<00:00, 10.37s/it]\n",
      "Fitting: 100%|██████████| 10/10 [01:56<00:00, 11.67s/it]\n",
      "Fitting: 100%|██████████| 10/10 [01:27<00:00,  8.79s/it]\n",
      "Fitting: 100%|██████████| 10/10 [01:13<00:00,  7.30s/it]\n",
      "Fitting: 100%|██████████| 10/10 [01:18<00:00,  7.83s/it]\n"
     ]
    }
   ],
   "source": [
    "from tqdm import tqdm\n",
    "accuracy_list = []\n",
    "lambd_list = [10, 1, 1e-1, 1e-2, 1e-3, 1e-4, 1e-5, 1e-6]\n",
    "for lambd in lambd_list:\n",
    "    krr = MultiKRR(kernel=Linear().kernel, lambd=lambd)\n",
    "    krr.fit(Xtr, Ytr)\n",
    "    pred = krr.predict(Xtr)\n",
    "    accuracy_list.append(accuracy(Ytr, pred))"
   ]
  },
  {
   "cell_type": "code",
   "execution_count": 53,
   "metadata": {},
   "outputs": [
    {
     "data": {
      "image/png": "[encoded data removed]",
      "text/plain": [
       "<Figure size 432x288 with 1 Axes>"
      ]
     },
     "metadata": {
      "needs_background": "light"
     },
     "output_type": "display_data"
    }
   ],
   "source": [
    "import matplotlib.pyplot as plt\n",
    "plt.plot(np.array(lambd_list)[::-1], np.array(accuracy_list)[::-1], '-o')\n",
    "plt.semilogx()\n",
    "plt.xlabel(\"$\\lambda$\")\n",
    "plt.ylabel(\"Accuracy on train set\")\n",
    "plt.title(\"Accuracy on train set for several values of $\\lambda$\")\n",
    "plt.grid(ls=':')\n",
    "plt.gca().spines['right'].set_visible(False)\n",
    "plt.gca().spines['top'].set_visible(False)\n",
    "plt.show()"
   ]
  },
  {
   "cell_type": "code",
   "execution_count": 33,
   "metadata": {},
   "outputs": [
    {
     "name": "stdout",
     "output_type": "stream",
     "text": [
      "[3. 0. 0. ... 0. 0. 0.]\n"
     ]
    }
   ],
   "source": [
    "krr = KRR(kernel=Linear().kernel)\n",
    "krr.fit(Xtr, Ytr)\n",
    "pred = krr.predict(Xte)\n",
    "print(pred)"
   ]
  },
  {
   "cell_type": "code",
   "execution_count": 34,
   "metadata": {},
   "outputs": [
    {
     "data": {
      "text/plain": [
       "array([792, 375, 300, 220, 163,  77,  39,  18,   9,   7], dtype=int64)"
      ]
     },
     "execution_count": 34,
     "metadata": {},
     "output_type": "execute_result"
    }
   ],
   "source": [
    "ar_unique, i = np.unique(pred, return_counts=True)\n",
    "i"
   ]
  },
  {
   "cell_type": "code",
   "execution_count": 57,
   "metadata": {},
   "outputs": [
    {
     "name": "stderr",
     "output_type": "stream",
     "text": [
      "Fitting:   0%|          | 0/10 [00:00<?, ?it/s]"
     ]
    }
   ],
   "source": [
    "from tqdm import tqdm\n",
    "accuracy_list = []\n",
    "sigma_list = [10, 1, 1e-1, 1e-2, 1e-3]\n",
    "for sigma in sigma_list:\n",
    "    krr = MultiKRR(kernel=GaussianKernel(sigma=sigma).kernel)\n",
    "    krr.fit(Xtr, Ytr)\n",
    "    pred = krr.predict(Xtr)\n",
    "    accuracy_list.append(accuracy(Ytr, pred))"
   ]
  },
  {
   "cell_type": "code",
   "execution_count": null,
   "metadata": {},
   "outputs": [],
   "source": []
  }
 ],
 "metadata": {
  "interpreter": {
   "hash": "aa30f91dbb17c0a3b91780755c9c6907c421c361796d059d67ffdc7b39984a01"
  },
  "kernelspec": {
   "display_name": "Python 3.8.0 ('mit-torch')",
   "language": "python",
   "name": "python3"
  },
  "language_info": {
   "codemirror_mode": {
    "name": "ipython",
    "version": 3
   },
   "file_extension": ".py",
   "mimetype": "text/x-python",
   "name": "python",
   "nbconvert_exporter": "python",
   "pygments_lexer": "ipython3",
   "version": "3.8.0"
  },
  "orig_nbformat": 4
 },
 "nbformat": 4,
 "nbformat_minor": 2
}
