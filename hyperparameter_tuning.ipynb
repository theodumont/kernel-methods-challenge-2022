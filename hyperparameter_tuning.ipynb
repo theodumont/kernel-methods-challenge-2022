{
 "cells": [
  {
   "cell_type": "code",
   "execution_count": 1,
   "metadata": {},
   "outputs": [],
   "source": [
    "import math\n",
    "import numpy as np\n",
    "import wandb\n",
    "from tqdm import tqdm\n",
    "from torchvision import transforms\n",
    "from src.utils import get_data, accuracy, save_Yte, augment_dataset, array_to_tensor\n",
    "from src.kernels import *\n",
    "from src.models import OneVsRestKRR\n",
    "from src.hog import hog\n",
    "from sklearn.model_selection import train_test_split "
   ]
  },
  {
   "cell_type": "code",
   "execution_count": 2,
   "metadata": {},
   "outputs": [],
   "source": [
    "Xtr, Xte, Ytr = get_data()"
   ]
  },
  {
   "cell_type": "markdown",
   "metadata": {},
   "source": [
    "## Hyperparameter tuning"
   ]
  },
  {
   "cell_type": "code",
   "execution_count": 3,
   "metadata": {},
   "outputs": [],
   "source": [
    "Xtr_, Xval_, Ytr_, Yval_ = train_test_split(Xtr, Ytr, test_size=0.1, random_state=123)\n",
    "Xtr_tensor_ = array_to_tensor(Xtr_)\n",
    "Xval_tensor_ = array_to_tensor(Xval_)"
   ]
  },
  {
   "cell_type": "code",
   "execution_count": 9,
   "metadata": {},
   "outputs": [
    {
     "name": "stderr",
     "output_type": "stream",
     "text": [
      "Computing HOG: 100%|██████████| 4500/4500 [00:24<00:00, 184.18it/s]\n"
     ]
    }
   ],
   "source": [
    "hog_fun = lambda img: hog(img,\n",
    "    cells_per_block=3,\n",
    "    normalization='L2-Hys',\n",
    ")\n",
    "Xtr_hog_ = np.array([hog_fun(img) for img in tqdm(Xtr_tensor_, desc=\"Computing HOG\")])\n",
    "Xval_hog_ = np.array([hog_fun(img) for img in Xval_tensor_])"
   ]
  },
  {
   "cell_type": "code",
   "execution_count": 11,
   "metadata": {},
   "outputs": [
    {
     "name": "stderr",
     "output_type": "stream",
     "text": [
      "Fitting: 100%|██████████| 10/10 [00:16<00:00,  1.64s/it]\n"
     ]
    },
    {
     "name": "stdout",
     "output_type": "stream",
     "text": [
      "avec HOG 0.596\n"
     ]
    }
   ],
   "source": [
    "krr = OneVsRestKRR(kernel=LogKernel(d=.5).kernel, lambd=1e-4)\n",
    "krr.fit(Xtr_hog_, Ytr_)\n",
    "print(\"avec HOG\", accuracy(Yval_, krr.predict(Xval_hog_)))\n",
    "# krr = OneVsRestKRR(kernel=WaveletKernel(a=1.).kernel, lambd=1e-4)\n",
    "# krr.fit(Xtr_, Ytr_)\n",
    "# print(\"sans HOG\", accuracy(Yval_, krr.predict(Xval_)))"
   ]
  },
  {
   "cell_type": "code",
   "execution_count": 5,
   "metadata": {},
   "outputs": [],
   "source": [
    "def get_sweep_id(parameters):\n",
    "    \"\"\"https://docs.wandb.ai/guides/sweeps/configuration\"\"\"\n",
    "    sweep_config = {\n",
    "        'method': \"bayes\",\n",
    "        'metric': {\n",
    "          'name': 'accuracy',\n",
    "          'goal': 'maximize'\n",
    "        },\n",
    "        'parameters': parameters\n",
    "    }\n",
    "    sweep_id = wandb.sweep(sweep_config, project='project-name')\n",
    "\n",
    "    return sweep_id"
   ]
  },
  {
   "cell_type": "code",
   "execution_count": 6,
   "metadata": {},
   "outputs": [],
   "source": [
    "import math\n",
    "\n",
    "def one_run():\n",
    "    wandb.init(project='project-name', entity='entity', tags=[\"HOG+KRR\"])\n",
    "    # kernel =============================================================================\n",
    "    kernel_name = wandb.config.kernel_name\n",
    "    if kernel_name == \"GaussianKernel\":\n",
    "        kernel = GaussianKernel(sigma=wandb.config.sigma).kernel\n",
    "    elif kernel_name == \"LogKernel\":\n",
    "        kernel = LogKernel(d=wandb.config.d).kernel\n",
    "    elif kernel_name == \"GHIKernel\":\n",
    "        kernel = GHIKernel(beta=wandb.config.beta).kernel\n",
    "    elif kernel_name == \"WaveletKernel\":\n",
    "        kernel = WaveletKernel(a=wandb.config.a).kernel\n",
    "    \n",
    "    # model ==============================================================================\n",
    "    krr = OneVsRestKRR(\n",
    "        kernel=kernel,\n",
    "        lambd=wandb.config.lambd,\n",
    "    )\n",
    "    krr.fit(Xtr_hog_, Ytr_)\n",
    "    wandb.run.summary[\"accuracy\"] = accuracy(Yval_, krr.predict(Xval_hog_))"
   ]
  },
  {
   "cell_type": "code",
   "execution_count": null,
   "metadata": {},
   "outputs": [],
   "source": [
    "parameters = {\n",
    "    'lambd': {\n",
    "        'distribution': 'log_uniform',\n",
    "        'min': math.log(1e-5),\n",
    "        'max': math.log(1e-3),\n",
    "        # 'value': 1e-4\n",
    "    },\n",
    "    'cells_per_block': {\n",
    "        'value': 3,\n",
    "    },\n",
    "    'normalization': {\n",
    "        'value': 'L2-Hys',\n",
    "    },\n",
    "    # kernel -----------------------------------------------------------------------------\n",
    "    'kernel_name': {\n",
    "        'value': \"LogKernel\",\n",
    "        # 'values': [\"GaussianKernel\", \"WaveletKernel\", \"LogKernel\", \"GHIKernel\"],\n",
    "    },\n",
    "    'd': {\n",
    "        'values': [1/3, 1/2],\n",
    "    },\n",
    "    # 'beta': {\n",
    "    #     'distribution': 'log_uniform',\n",
    "    #     'min': math.log(1e-1),\n",
    "    #     'max': math.log(1e1),\n",
    "    # },\n",
    "    # 'a': {\n",
    "    #     'distribution': 'log_uniform',\n",
    "    #     'min': math.log(1e-1),\n",
    "    #     'max': math.log(1e1),\n",
    "    # },\n",
    "}\n",
    "sweep_id = get_sweep_id(parameters)\n",
    "%env WANDB_SILENT=True\n",
    "\n",
    "wandb.agent(sweep_id, function=one_run)"
   ]
  },
  {
   "cell_type": "markdown",
   "metadata": {},
   "source": [
    "## Predictions"
   ]
  },
  {
   "cell_type": "code",
   "execution_count": 8,
   "metadata": {},
   "outputs": [
    {
     "name": "stderr",
     "output_type": "stream",
     "text": [
      "Augmenting: 100%|██████████| 10000/10000 [00:09<00:00, 1053.09it/s]\n",
      "Computing HOG: 100%|██████████| 15000/15000 [01:32<00:00, 161.97it/s]\n",
      "Fitting: 100%|██████████| 10/10 [08:29<00:00, 50.99s/it]\n"
     ]
    },
    {
     "name": "stdout",
     "output_type": "stream",
     "text": [
      "accuracy on training set: 0.9311333333333334\n"
     ]
    }
   ],
   "source": [
    "transform = [\n",
    "    transforms.RandomHorizontalFlip(p=.5),\n",
    "    transforms.RandomAffine(degrees=(0,10), translate=(0.1,0.2), scale=(0.8,1.2)),\n",
    "]\n",
    "Xtr_augm, Ytr_augm = augment_dataset(Xtr, Ytr, repeat=2, transform=transform)\n",
    "Xtr_tensor = array_to_tensor(Xtr_augm)\n",
    "Xte_tensor = array_to_tensor(Xte)\n",
    "hog_fun = lambda img: hog(img,\n",
    "    cells_per_block=3,\n",
    "    normalization='L2-Hys',\n",
    ")\n",
    "Xtr_hog = np.array([hog_fun(img) for img in tqdm(Xtr_tensor, desc=\"Computing HOG\")])\n",
    "Xte_hog = np.array([hog_fun(img) for img in Xte_tensor])\n",
    "krr = OneVsRestKRR(kernel=LogKernel(d=2).kernel, lambd=1e-4)\n",
    "krr.fit(Xtr_hog, Ytr_augm)\n",
    "hog_fun = lambda img: hog(img,\n",
    "    cells_per_block=3,\n",
    "    normalization='L2-Hys',\n",
    ")\n",
    "print(f\"accuracy on training set: {accuracy(Ytr_augm, krr.predict(Xtr_hog))}\")\n",
    "Yte = krr.predict(Xte_hog)\n",
    "save_Yte(Yte, model_name=\"HOG_DA_Log_OneVsRestKRR_1\")"
   ]
  },
  {
   "cell_type": "markdown",
   "metadata": {},
   "source": [
    "## Log kernel data augmentation\n"
   ]
  },
  {
   "cell_type": "code",
   "execution_count": 4,
   "metadata": {},
   "outputs": [
    {
     "name": "stderr",
     "output_type": "stream",
     "text": [
      "Augmenting: 100%|██████████| 9000/9000 [00:08<00:00, 1053.15it/s]\n"
     ]
    },
    {
     "name": "stdout",
     "output_type": "stream",
     "text": [
      "(13500, 3072)\n"
     ]
    }
   ],
   "source": [
    "from utils import show_images, tensor_to_array, augment_dataset\n",
    "\n",
    "\n",
    "transform = [\n",
    "    transforms.RandomHorizontalFlip(p=.6),\n",
    "    transforms.RandomAffine(degrees=(0,10), translate=(0.1,0.2), scale=(0.8,1.2)),\n",
    "]\n",
    "Xtr_augm_, Ytr_augm_ = augment_dataset(Xtr_, Ytr_, repeat=2, transform=transform)\n",
    "print(Xtr_augm_.shape)"
   ]
  },
  {
   "cell_type": "code",
   "execution_count": 5,
   "metadata": {},
   "outputs": [
    {
     "name": "stderr",
     "output_type": "stream",
     "text": [
      "Computing HOG: 100%|██████████| 13500/13500 [01:32<00:00, 145.60it/s]\n"
     ]
    }
   ],
   "source": [
    "hog_fun = lambda img: hog(img,\n",
    "    cells_per_block=3,\n",
    "    normalization='L2-Hys',\n",
    ")\n",
    "\n",
    "Xtr_augm_tensor_ = array_to_tensor(Xtr_augm_)\n",
    "# Xval_tensor_ = array_to_tensor(Xval_)\n",
    "Xtr_augm_hog_ = np.array([hog_fun(img) for img in tqdm(Xtr_augm_tensor_, desc=\"Computing HOG\")])\n",
    "Xval_hog_ = np.array([hog_fun(img) for img in Xval_tensor_])\n"
   ]
  },
  {
   "cell_type": "code",
   "execution_count": 6,
   "metadata": {},
   "outputs": [
    {
     "name": "stderr",
     "output_type": "stream",
     "text": [
      "Fitting: 100%|██████████| 10/10 [06:18<00:00, 37.86s/it]\n"
     ]
    },
    {
     "name": "stdout",
     "output_type": "stream",
     "text": [
      "avec data augm 0.626\n"
     ]
    }
   ],
   "source": [
    "\n",
    "krr = OneVsRestKRR(kernel=LogKernel(d=2).kernel, lambd=1e-4)\n",
    "krr.fit(Xtr_augm_hog_, Ytr_augm_)\n",
    "print(\"avec data augm\", accuracy(Yval_, krr.predict(Xval_hog_)))"
   ]
  },
  {
   "cell_type": "code",
   "execution_count": null,
   "metadata": {},
   "outputs": [],
   "source": []
  }
 ],
 "metadata": {
  "interpreter": {
   "hash": "aa30f91dbb17c0a3b91780755c9c6907c421c361796d059d67ffdc7b39984a01"
  },
  "kernelspec": {
   "display_name": "Python 3.8.0 ('mit-torch')",
   "language": "python",
   "name": "python3"
  },
  "language_info": {
   "codemirror_mode": {
    "name": "ipython",
    "version": 3
   },
   "file_extension": ".py",
   "mimetype": "text/x-python",
   "name": "python",
   "nbconvert_exporter": "python",
   "pygments_lexer": "ipython3",
   "version": "3.8.0"
  },
  "orig_nbformat": 4
 },
 "nbformat": 4,
 "nbformat_minor": 2
}
