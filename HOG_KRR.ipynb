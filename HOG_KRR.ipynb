{
 "cells": [
  {
   "cell_type": "code",
   "execution_count": 122,
   "metadata": {},
   "outputs": [],
   "source": [
    "import math\n",
    "import numpy as np\n",
    "import wandb\n",
    "from tqdm import tqdm\n",
    "from torchvision import transforms\n",
    "from utils import get_data, accuracy, save_Yte, augment_dataset, array_to_tensor\n",
    "from kernels import *\n",
    "from models import MultiKRR\n",
    "from feature import hog\n",
    "from sklearn.model_selection import train_test_split "
   ]
  },
  {
   "cell_type": "code",
   "execution_count": 118,
   "metadata": {},
   "outputs": [],
   "source": [
    "Xtr, Xte, Ytr = get_data()"
   ]
  },
  {
   "cell_type": "markdown",
   "metadata": {},
   "source": [
    "## Hyperparameter tuning"
   ]
  },
  {
   "cell_type": "code",
   "execution_count": 119,
   "metadata": {},
   "outputs": [],
   "source": [
    "Xtr_, Xval_, Ytr_, Yval_ = train_test_split(Xtr, Ytr, test_size=0.1, random_state=123)\n",
    "Xtr_tensor_ = array_to_tensor(Xtr_)\n",
    "Xval_tensor_ = array_to_tensor(Xval_)"
   ]
  },
  {
   "cell_type": "code",
   "execution_count": 120,
   "metadata": {},
   "outputs": [
    {
     "name": "stderr",
     "output_type": "stream",
     "text": [
      "Computing HOG: 100%|██████████| 4500/4500 [00:15<00:00, 296.15it/s]\n"
     ]
    }
   ],
   "source": [
    "hog_fun = lambda img: hog(img,\n",
    "    cells_per_block=3,\n",
    "    normalization='L2-Hys',\n",
    ")\n",
    "Xtr_hog_ = np.array([hog_fun(img) for img in tqdm(Xtr_tensor_, desc=\"Computing HOG\")])\n",
    "Xval_hog_ = np.array([hog_fun(img) for img in Xval_tensor_])\n"
   ]
  },
  {
   "cell_type": "code",
   "execution_count": 123,
   "metadata": {},
   "outputs": [
    {
     "name": "stderr",
     "output_type": "stream",
     "text": [
      "Fitting: 100%|██████████| 10/10 [00:30<00:00,  3.01s/it]\n"
     ]
    },
    {
     "ename": "ValueError",
     "evalue": "operands could not be broadcast together with shapes (500,324) (4500,324) ",
     "output_type": "error",
     "traceback": [
      "\u001b[0;31m---------------------------------------------------------------------------\u001b[0m",
      "\u001b[0;31mValueError\u001b[0m                                Traceback (most recent call last)",
      "\u001b[0;32m<ipython-input-123-51d734d3a2a6>\u001b[0m in \u001b[0;36m<module>\u001b[0;34m\u001b[0m\n\u001b[1;32m      1\u001b[0m \u001b[0mkrr\u001b[0m \u001b[0;34m=\u001b[0m \u001b[0mMultiKRR\u001b[0m\u001b[0;34m(\u001b[0m\u001b[0mkernel\u001b[0m\u001b[0;34m=\u001b[0m\u001b[0mGHIKernel\u001b[0m\u001b[0;34m(\u001b[0m\u001b[0mbeta\u001b[0m\u001b[0;34m=\u001b[0m\u001b[0;36m1.\u001b[0m\u001b[0;34m)\u001b[0m\u001b[0;34m.\u001b[0m\u001b[0mkernel\u001b[0m\u001b[0;34m,\u001b[0m \u001b[0mlambd\u001b[0m\u001b[0;34m=\u001b[0m\u001b[0;36m1e-4\u001b[0m\u001b[0;34m)\u001b[0m\u001b[0;34m\u001b[0m\u001b[0;34m\u001b[0m\u001b[0m\n\u001b[1;32m      2\u001b[0m \u001b[0mkrr\u001b[0m\u001b[0;34m.\u001b[0m\u001b[0mfit\u001b[0m\u001b[0;34m(\u001b[0m\u001b[0mXtr_hog_\u001b[0m\u001b[0;34m,\u001b[0m \u001b[0mYtr_\u001b[0m\u001b[0;34m)\u001b[0m\u001b[0;34m\u001b[0m\u001b[0;34m\u001b[0m\u001b[0m\n\u001b[0;32m----> 3\u001b[0;31m \u001b[0mprint\u001b[0m\u001b[0;34m(\u001b[0m\u001b[0;34m\"accuracy:\"\u001b[0m\u001b[0;34m,\u001b[0m \u001b[0maccuracy\u001b[0m\u001b[0;34m(\u001b[0m\u001b[0mYval_\u001b[0m\u001b[0;34m,\u001b[0m \u001b[0mkrr\u001b[0m\u001b[0;34m.\u001b[0m\u001b[0mpredict\u001b[0m\u001b[0;34m(\u001b[0m\u001b[0mXval_hog_\u001b[0m\u001b[0;34m)\u001b[0m\u001b[0;34m)\u001b[0m\u001b[0;34m)\u001b[0m\u001b[0;34m\u001b[0m\u001b[0;34m\u001b[0m\u001b[0m\n\u001b[0m",
      "\u001b[0;32m~/Documents/GitHub/kernel-methods-challenge/models.py\u001b[0m in \u001b[0;36mpredict\u001b[0;34m(self, x)\u001b[0m\n\u001b[1;32m     38\u001b[0m \u001b[0;34m\u001b[0m\u001b[0m\n\u001b[1;32m     39\u001b[0m     \u001b[0;32mdef\u001b[0m \u001b[0mpredict\u001b[0m\u001b[0;34m(\u001b[0m\u001b[0mself\u001b[0m\u001b[0;34m,\u001b[0m \u001b[0mx\u001b[0m\u001b[0;34m)\u001b[0m\u001b[0;34m:\u001b[0m\u001b[0;34m\u001b[0m\u001b[0;34m\u001b[0m\u001b[0m\n\u001b[0;32m---> 40\u001b[0;31m         \u001b[0mK\u001b[0m \u001b[0;34m=\u001b[0m \u001b[0mself\u001b[0m\u001b[0;34m.\u001b[0m\u001b[0mkernel\u001b[0m\u001b[0;34m(\u001b[0m\u001b[0mx\u001b[0m\u001b[0;34m,\u001b[0m\u001b[0mself\u001b[0m\u001b[0;34m.\u001b[0m\u001b[0mX\u001b[0m\u001b[0;34m)\u001b[0m\u001b[0;34m\u001b[0m\u001b[0;34m\u001b[0m\u001b[0m\n\u001b[0m\u001b[1;32m     41\u001b[0m         \u001b[0mpred\u001b[0m \u001b[0;34m=\u001b[0m \u001b[0mnp\u001b[0m\u001b[0;34m.\u001b[0m\u001b[0marray\u001b[0m\u001b[0;34m(\u001b[0m\u001b[0;34m[\u001b[0m\u001b[0mkrr\u001b[0m\u001b[0;34m.\u001b[0m\u001b[0mpredict\u001b[0m\u001b[0;34m(\u001b[0m\u001b[0mK\u001b[0m\u001b[0;34m)\u001b[0m \u001b[0;32mfor\u001b[0m \u001b[0mkrr\u001b[0m \u001b[0;32min\u001b[0m \u001b[0mself\u001b[0m\u001b[0;34m.\u001b[0m\u001b[0mKRR_list\u001b[0m\u001b[0;34m]\u001b[0m\u001b[0;34m)\u001b[0m\u001b[0;34m.\u001b[0m\u001b[0mT\u001b[0m\u001b[0;34m\u001b[0m\u001b[0;34m\u001b[0m\u001b[0m\n\u001b[1;32m     42\u001b[0m         \u001b[0mpred\u001b[0m \u001b[0;34m=\u001b[0m \u001b[0mnp\u001b[0m\u001b[0;34m.\u001b[0m\u001b[0margmax\u001b[0m\u001b[0;34m(\u001b[0m\u001b[0mpred\u001b[0m\u001b[0;34m,\u001b[0m \u001b[0maxis\u001b[0m\u001b[0;34m=\u001b[0m\u001b[0;36m1\u001b[0m\u001b[0;34m)\u001b[0m\u001b[0;34m\u001b[0m\u001b[0;34m\u001b[0m\u001b[0m\n",
      "\u001b[0;32m~/Documents/GitHub/kernel-methods-challenge/kernels.py\u001b[0m in \u001b[0;36mkernel\u001b[0;34m(self, X, Y)\u001b[0m\n\u001b[1;32m    130\u001b[0m         \u001b[0mself\u001b[0m\u001b[0;34m.\u001b[0m\u001b[0mbeta\u001b[0m \u001b[0;34m=\u001b[0m \u001b[0mbeta\u001b[0m\u001b[0;34m\u001b[0m\u001b[0;34m\u001b[0m\u001b[0m\n\u001b[1;32m    131\u001b[0m     \u001b[0;32mdef\u001b[0m \u001b[0mkernel\u001b[0m\u001b[0;34m(\u001b[0m\u001b[0mself\u001b[0m\u001b[0;34m,\u001b[0m\u001b[0mX\u001b[0m\u001b[0;34m,\u001b[0m\u001b[0mY\u001b[0m\u001b[0;34m)\u001b[0m\u001b[0;34m:\u001b[0m\u001b[0;34m\u001b[0m\u001b[0;34m\u001b[0m\u001b[0m\n\u001b[0;32m--> 132\u001b[0;31m         \u001b[0;34m(\u001b[0m\u001b[0mn_x\u001b[0m\u001b[0;34m,\u001b[0m \u001b[0mm_x\u001b[0m\u001b[0;34m)\u001b[0m \u001b[0;34m=\u001b[0m \u001b[0mnp\u001b[0m\u001b[0;34m.\u001b[0m\u001b[0mshape\u001b[0m\u001b[0;34m(\u001b[0m\u001b[0mX\u001b[0m\u001b[0;34m)\u001b[0m\u001b[0;34m\u001b[0m\u001b[0;34m\u001b[0m\u001b[0m\n\u001b[0m\u001b[1;32m    133\u001b[0m         \u001b[0;34m(\u001b[0m\u001b[0mn_y\u001b[0m\u001b[0;34m,\u001b[0m \u001b[0mm_y\u001b[0m\u001b[0;34m)\u001b[0m \u001b[0;34m=\u001b[0m \u001b[0mnp\u001b[0m\u001b[0;34m.\u001b[0m\u001b[0mshape\u001b[0m\u001b[0;34m(\u001b[0m\u001b[0mY\u001b[0m\u001b[0;34m)\u001b[0m\u001b[0;34m\u001b[0m\u001b[0;34m\u001b[0m\u001b[0m\n\u001b[1;32m    134\u001b[0m         \u001b[0mprint\u001b[0m\u001b[0;34m(\u001b[0m\u001b[0mn_x\u001b[0m\u001b[0;34m,\u001b[0m\u001b[0mm_x\u001b[0m\u001b[0;34m,\u001b[0m\u001b[0mn_y\u001b[0m\u001b[0;34m,\u001b[0m\u001b[0mm_y\u001b[0m\u001b[0;34m)\u001b[0m\u001b[0;34m\u001b[0m\u001b[0;34m\u001b[0m\u001b[0m\n",
      "\u001b[0;31mValueError\u001b[0m: operands could not be broadcast together with shapes (500,324) (4500,324) "
     ]
    }
   ],
   "source": [
    "krr = MultiKRR(kernel=GHIKernel(beta=1.).kernel, lambd=1e-4)\n",
    "krr.fit(Xtr_hog_, Ytr_)\n",
    "print(\"accuracy:\", accuracy(Yval_, krr.predict(Xval_hog_)))"
   ]
  },
  {
   "cell_type": "code",
   "execution_count": 127,
   "metadata": {},
   "outputs": [],
   "source": [
    "X = krr.X\n",
    "Y = krr.X\n",
    "(n_x, m_x) = np.shape(X)\n",
    "(n_y, m_y) = np.shape(Y)\n",
    "if m_x != m_y: raise TypeError('Check input dimensions')\n",
    "K = np.zeros((n_x,n_y))\n",
    "for i in range(n_x):\n",
    "    for j in range(n_y):\n",
    "        K[i,j] = np.minimum(np.power(np.abs(X[i,:]), 1.), np.power(np.abs(Y[j,:]), 1.)).sum()"
   ]
  },
  {
   "cell_type": "code",
   "execution_count": null,
   "metadata": {},
   "outputs": [],
   "source": [
    "krr.kernel(krr.X,krr.X)"
   ]
  },
  {
   "cell_type": "code",
   "execution_count": null,
   "metadata": {},
   "outputs": [],
   "source": [
    "def get_sweep_id(parameters):\n",
    "    \"\"\"https://docs.wandb.ai/guides/sweeps/configuration\"\"\"\n",
    "    sweep_config = {\n",
    "        'method': \"bayes\",\n",
    "        'metric': {\n",
    "          'name': 'accuracy',\n",
    "          'goal': 'maximize'\n",
    "        },\n",
    "        'parameters': parameters\n",
    "    }\n",
    "    sweep_id = wandb.sweep(sweep_config, project='kernel-challenge-final')\n",
    "\n",
    "    return sweep_id"
   ]
  },
  {
   "cell_type": "code",
   "execution_count": 6,
   "metadata": {},
   "outputs": [],
   "source": [
    "import math\n",
    "\n",
    "def one_run():\n",
    "    wandb.init(project='kernel-challenge-final', entity='theodumont', tags=[\"HOG+KRR\"])\n",
    "    # kernel =============================================================================\n",
    "    kernel_name = wandb.config.kernel_name\n",
    "    if kernel_name == \"GaussianKernel\":\n",
    "        kernel = GaussianKernel(sigma=wandb.config.sigma).kernel\n",
    "    elif kernel_name == \"LogKernel\":\n",
    "        kernel = LogKernel(d=wandb.config.d).kernel\n",
    "    elif kernel_name == \"GHIKernel\":\n",
    "        kernel = GHIKernel(beta=wandb.config.beta).kernel\n",
    "    elif kernel_name == \"WaveletKernel\":\n",
    "        pass\n",
    "    \n",
    "    # model ==============================================================================\n",
    "    krr = MultiKRR(\n",
    "        kernel=kernel,\n",
    "        lambd=wandb.config.lambd,\n",
    "    )\n",
    "    krr.fit(Xtr_hog_, Ytr_)\n",
    "    wandb.run.summary[\"accuracy\"] = accuracy(Yval_, krr.predict(Xval_hog_))"
   ]
  },
  {
   "cell_type": "code",
   "execution_count": 8,
   "metadata": {},
   "outputs": [
    {
     "name": "stdout",
     "output_type": "stream",
     "text": [
      "Create sweep with ID: e5enugkd\n",
      "Sweep URL: https://wandb.ai/theodumont/kernel-challenge-final/sweeps/e5enugkd\n",
      "env: WANDB_SILENT=True\n"
     ]
    },
    {
     "name": "stderr",
     "output_type": "stream",
     "text": [
      "\u001b[34m\u001b[1mwandb\u001b[0m: Agent Starting Run: dqyul4is with config:\n",
      "\u001b[34m\u001b[1mwandb\u001b[0m: \tcells_per_block: 3\n",
      "\u001b[34m\u001b[1mwandb\u001b[0m: \td: 1\n",
      "\u001b[34m\u001b[1mwandb\u001b[0m: \tkernel_name: LogKernel\n",
      "\u001b[34m\u001b[1mwandb\u001b[0m: \tlambd: 1.2653316374256873e-05\n",
      "\u001b[34m\u001b[1mwandb\u001b[0m: \tnormalization: L2-Hys\n",
      "Fitting: 100%|██████████| 10/10 [00:34<00:00,  3.46s/it]\n",
      "Fitting: 100%|██████████| 10/10 [01:03<00:00,  6.30s/it]\n",
      "Fitting: 100%|██████████| 10/10 [01:05<00:00,  6.55s/it]\n",
      "Fitting: 100%|██████████| 10/10 [01:18<00:00,  7.80s/it]\n",
      "Fitting: 100%|██████████| 10/10 [01:11<00:00,  7.13s/it]\n",
      "Fitting: 100%|██████████| 10/10 [01:01<00:00,  6.13s/it]\n",
      "Fitting: 100%|██████████| 10/10 [01:10<00:00,  7.09s/it]\n",
      "Fitting: 100%|██████████| 10/10 [01:04<00:00,  6.49s/it]\n",
      "Fitting: 100%|██████████| 10/10 [01:02<00:00,  6.26s/it]\n",
      "Fitting:  50%|█████     | 5/10 [00:50<00:54, 10.82s/it]"
     ]
    }
   ],
   "source": [
    "parameters = {\n",
    "    'lambd': {\n",
    "        'distribution': 'log_uniform',\n",
    "        'min': math.log(1e-5),\n",
    "        'max': math.log(1e-3),\n",
    "        # 'value': 1e-4\n",
    "    },\n",
    "    'cells_per_block': {\n",
    "        'value': 3,\n",
    "    },\n",
    "    'normalization': {\n",
    "        'value': 'L2-Hys',\n",
    "    },\n",
    "    # kernel -----------------------------------------------------------------------------\n",
    "    'kernel_name': {\n",
    "        'value': \"GHIKernel\",\n",
    "        # 'values': [\"GaussianKernel\", \"WaveletKernel\", \"LogKernel\", \"GHIKernel\"],\n",
    "    },\n",
    "    # 'd': {\n",
    "    #     'values': [1,2],\n",
    "    # },\n",
    "    'beta': {\n",
    "        'distribution': 'log_uniform',\n",
    "        'min': math.log(1e-1),\n",
    "        'max': math.log(1e1),\n",
    "    },\n",
    "}\n",
    "sweep_id = get_sweep_id(parameters)\n",
    "%env WANDB_SILENT=True\n",
    "\n",
    "# sweep_id = \"2rx2v24s\"\n",
    "wandb.agent(sweep_id, function=one_run)"
   ]
  },
  {
   "cell_type": "markdown",
   "metadata": {},
   "source": [
    "## Predictions"
   ]
  },
  {
   "cell_type": "code",
   "execution_count": 5,
   "metadata": {},
   "outputs": [
    {
     "name": "stderr",
     "output_type": "stream",
     "text": [
      "Computing HOG: 100%|██████████| 5000/5000 [00:24<00:00, 202.81it/s]\n",
      "Fitting: 100%|██████████| 10/10 [01:02<00:00,  6.29s/it]\n"
     ]
    },
    {
     "name": "stdout",
     "output_type": "stream",
     "text": [
      "accuracy on training set: 1.0\n"
     ]
    }
   ],
   "source": [
    "Xtr_tensor = array_to_tensor(Xtr)\n",
    "Xte_tensor = array_to_tensor(Xte)\n",
    "hog_fun = lambda img: hog(img,\n",
    "    cells_per_block=3,\n",
    "    normalization='L2-Hys',\n",
    ")\n",
    "Xtr_hog = np.array([hog_fun(img) for img in tqdm(Xtr_tensor, desc=\"Computing HOG\")])\n",
    "Xte_hog = np.array([hog_fun(img) for img in Xte_tensor])\n",
    "krr = MultiKRR(kernel=LogKernel(d=2).kernel, lambd=4e-5)\n",
    "krr.fit(Xtr_hog, Ytr)\n",
    "hog_fun = lambda img: hog(img,\n",
    "    cells_per_block=3,\n",
    "    normalization='L2-Hys',\n",
    ")\n",
    "print(f\"accuracy on training set: {accuracy(Ytr, krr.predict(Xtr_hog))}\")\n",
    "Yte = krr.predict(Xte_hog)\n",
    "save_Yte(Yte, model_name=\"HOG_Log_MultiKRR_1\")"
   ]
  },
  {
   "cell_type": "code",
   "execution_count": null,
   "metadata": {},
   "outputs": [],
   "source": []
  }
 ],
 "metadata": {
  "interpreter": {
   "hash": "aa30f91dbb17c0a3b91780755c9c6907c421c361796d059d67ffdc7b39984a01"
  },
  "kernelspec": {
   "display_name": "Python 3.8.0 ('mit-torch')",
   "language": "python",
   "name": "python3"
  },
  "language_info": {
   "codemirror_mode": {
    "name": "ipython",
    "version": 3
   },
   "file_extension": ".py",
   "mimetype": "text/x-python",
   "name": "python",
   "nbconvert_exporter": "python",
   "pygments_lexer": "ipython3",
   "version": "3.8.5"
  },
  "orig_nbformat": 4
 },
 "nbformat": 4,
 "nbformat_minor": 2
}
