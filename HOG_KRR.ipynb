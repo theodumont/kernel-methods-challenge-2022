{
 "cells": [
  {
   "cell_type": "code",
   "execution_count": 3,
   "metadata": {},
   "outputs": [],
   "source": [
    "import math\n",
    "import numpy as np\n",
    "import wandb\n",
    "from tqdm import tqdm\n",
    "from torchvision import transforms\n",
    "from utils import get_data, accuracy, save_Yte, augment_dataset, array_to_tensor\n",
    "from kernels import *\n",
    "from models import MultiKRR\n",
    "from feature import hog\n",
    "from sklearn.model_selection import train_test_split \n"
   ]
  },
  {
   "cell_type": "code",
   "execution_count": 4,
   "metadata": {},
   "outputs": [],
   "source": [
    "Xtr, Xte, Ytr = get_data()"
   ]
  },
  {
   "cell_type": "markdown",
   "metadata": {},
   "source": [
    "## Hyperparameter tuning"
   ]
  },
  {
   "cell_type": "code",
   "execution_count": 5,
   "metadata": {},
   "outputs": [],
   "source": [
    "Xtr_, Xval_, Ytr_, Yval_ = train_test_split(Xtr, Ytr, test_size=0.1, random_state=123)\n",
    "Xtr_tensor_ = array_to_tensor(Xtr_)\n",
    "Xval_tensor_ = array_to_tensor(Xval_)"
   ]
  },
  {
   "cell_type": "code",
   "execution_count": 6,
   "metadata": {},
   "outputs": [
    {
     "name": "stderr",
     "output_type": "stream",
     "text": [
      "Computing HOG for train:   1%|          | 39/4500 [00:00<00:23, 192.10it/s]"
     ]
    },
    {
     "name": "stdout",
     "output_type": "stream",
     "text": [
      "computing HOG\n"
     ]
    },
    {
     "name": "stderr",
     "output_type": "stream",
     "text": [
      "Computing HOG for train: 100%|██████████| 4500/4500 [00:26<00:00, 170.41it/s]\n",
      "Computing HOG for train: 100%|██████████| 500/500 [00:03<00:00, 163.80it/s]\n"
     ]
    },
    {
     "name": "stdout",
     "output_type": "stream",
     "text": [
      "regression\n"
     ]
    },
    {
     "name": "stderr",
     "output_type": "stream",
     "text": [
      "Fitting: 100%|██████████| 10/10 [00:53<00:00,  5.32s/it]"
     ]
    },
    {
     "name": "stdout",
     "output_type": "stream",
     "text": [
      "accuracy: 0.6\n"
     ]
    },
    {
     "name": "stderr",
     "output_type": "stream",
     "text": [
      "\n"
     ]
    }
   ],
   "source": [
    "# test\n",
    "hog_fun = lambda img: hog(img)\n",
    "Xtr_hog_ = np.array([hog_fun(img) for img in tqdm(Xtr_tensor_, desc=\"Computing HOG\")])\n",
    "Xval_hog_ = np.array([hog_fun(img) for img in Xval_tensor_])\n",
    "krr = MultiKRR(kernel=GaussianKernel(sigma=1).kernel, lambd=1e-4)\n",
    "krr.fit(Xtr_hog_, Ytr_)\n",
    "print(\"accuracy:\", accuracy(Yval_, krr.predict(Xval_hog_)))"
   ]
  },
  {
   "cell_type": "code",
   "execution_count": 6,
   "metadata": {},
   "outputs": [],
   "source": [
    "def get_sweep_id(parameters):\n",
    "    \"\"\"https://docs.wandb.ai/guides/sweeps/configuration\"\"\"\n",
    "    sweep_config = {\n",
    "        'method': \"bayes\",\n",
    "        'metric': {\n",
    "          'name': 'accuracy',\n",
    "          'goal': 'maximize'\n",
    "        },\n",
    "        'parameters': parameters\n",
    "    }\n",
    "    sweep_id = wandb.sweep(sweep_config, project='kernel-challenge-final')\n",
    "\n",
    "    return sweep_id"
   ]
  },
  {
   "cell_type": "code",
   "execution_count": 7,
   "metadata": {},
   "outputs": [],
   "source": [
    "import math\n",
    "\n",
    "def one_run():\n",
    "    wandb.init(project='kernel-challenge-final', entity='theodumont', tags=[\"HOG+KRR\"])\n",
    "    # dataset ============================================================================\n",
    "    hog_fun = lambda img: hog(img,\n",
    "        cells_per_block=wandb.config.cells_per_block,\n",
    "        normalization=wandb.config.normalization,\n",
    "    )\n",
    "    Xtr_hog_ = np.array([hog_fun(img) for img in tqdm(Xtr_tensor_, desc=\"Computing HOG\")])\n",
    "    Xval_hog_ = np.array([hog_fun(img) for img in Xval_tensor_])\n",
    "\n",
    "    # kernel =============================================================================\n",
    "    kernel_name = wandb.config.kernel_name\n",
    "    if kernel_name == \"GaussianKernel\":\n",
    "        kernel = GaussianKernel(sigma=wandb.config.sigma).kernel\n",
    "    elif kernel_name == \"LogKernel\":\n",
    "        pass\n",
    "    elif kernel_name == \"MinKernel\":\n",
    "        pass\n",
    "    elif kernel_name == \"Chi2Kernel\":\n",
    "        pass\n",
    "    \n",
    "    # model ==============================================================================\n",
    "    krr = MultiKRR(\n",
    "        kernel=kernel,\n",
    "        lambd=wandb.config.lambd,\n",
    "    )\n",
    "    krr.fit(Xtr_hog_, Ytr_)\n",
    "    wandb.run.summary[\"accuracy\"] = accuracy(Yval_, krr.predict(Xval_hog_))"
   ]
  },
  {
   "cell_type": "code",
   "execution_count": 8,
   "metadata": {},
   "outputs": [
    {
     "name": "stderr",
     "output_type": "stream",
     "text": [
      "Failed to detect the name of this notebook, you can set it manually with the WANDB_NOTEBOOK_NAME environment variable to enable code saving.\n"
     ]
    },
    {
     "name": "stdout",
     "output_type": "stream",
     "text": [
      "Create sweep with ID: 2rx2v24s\n",
      "Sweep URL: https://wandb.ai/theodumont/kernel-challenge-final/sweeps/2rx2v24s\n",
      "env: WANDB_SILENT=True\n"
     ]
    },
    {
     "name": "stderr",
     "output_type": "stream",
     "text": [
      "\u001b[34m\u001b[1mwandb\u001b[0m: Agent Starting Run: szqs8hkz with config:\n",
      "\u001b[34m\u001b[1mwandb\u001b[0m: \tcells_per_block: 2\n",
      "\u001b[34m\u001b[1mwandb\u001b[0m: \tkernel_name: GaussianKernel\n",
      "\u001b[34m\u001b[1mwandb\u001b[0m: \tlambd: 3.51732841536161e-05\n",
      "\u001b[34m\u001b[1mwandb\u001b[0m: \tnormalization: L2-Hys\n",
      "\u001b[34m\u001b[1mwandb\u001b[0m: \tsigma: 1.1150743436996975\n",
      "Computing HOG: 100%|██████████| 4500/4500 [00:48<00:00, 93.42it/s] \n",
      "Fitting:   0%|          | 0/10 [00:00<?, ?it/s]"
     ]
    }
   ],
   "source": [
    "parameters = {\n",
    "    'lambd': {\n",
    "        'distribution': 'log_uniform',\n",
    "        'min': math.log(1e-5),\n",
    "        'max': math.log(1e-3),\n",
    "    },\n",
    "    'cells_per_block': {\n",
    "        'values': [2, 3],\n",
    "    },\n",
    "    'normalization': {\n",
    "        'values': ['L1', 'L2-Hys'],\n",
    "    },\n",
    "    # kernel -----------------------------------------------------------------------------\n",
    "    'kernel_name': {\n",
    "        'value': \"GaussianKernel\",\n",
    "        # 'values': [\"GaussianKernel\", \"LogKernel\", \"MinKernel\", \"Chi2Kernel\"],\n",
    "    },\n",
    "    'sigma': {\n",
    "        'distribution': 'log_uniform',\n",
    "        'min': math.log(1e-1),\n",
    "        'max': math.log(1e1),\n",
    "    },\n",
    "}\n",
    "sweep_id = get_sweep_id(parameters)\n",
    "%env WANDB_SILENT=True\n",
    "\n",
    "wandb.agent(sweep_id, function=one_run)"
   ]
  },
  {
   "cell_type": "code",
   "execution_count": null,
   "metadata": {},
   "outputs": [],
   "source": []
  }
 ],
 "metadata": {
  "interpreter": {
   "hash": "aa30f91dbb17c0a3b91780755c9c6907c421c361796d059d67ffdc7b39984a01"
  },
  "kernelspec": {
   "display_name": "Python 3.8.0 ('mit-torch')",
   "language": "python",
   "name": "python3"
  },
  "language_info": {
   "codemirror_mode": {
    "name": "ipython",
    "version": 3
   },
   "file_extension": ".py",
   "mimetype": "text/x-python",
   "name": "python",
   "nbconvert_exporter": "python",
   "pygments_lexer": "ipython3",
   "version": "3.8.0"
  },
  "orig_nbformat": 4
 },
 "nbformat": 4,
 "nbformat_minor": 2
}
