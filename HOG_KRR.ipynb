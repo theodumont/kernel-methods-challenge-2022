{
 "cells": [
  {
   "cell_type": "code",
   "execution_count": 1,
   "metadata": {},
   "outputs": [],
   "source": [
    "import math\n",
    "import numpy as np\n",
    "import wandb\n",
    "from tqdm import tqdm\n",
    "from torchvision import transforms\n",
    "from utils import get_data, accuracy, save_Yte, augment_dataset, array_to_tensor\n",
    "from kernels import *\n",
    "from models import MultiKRR\n",
    "from feature import hog\n",
    "from sklearn.model_selection import train_test_split \n"
   ]
  },
  {
   "cell_type": "code",
   "execution_count": 2,
   "metadata": {},
   "outputs": [],
   "source": [
    "Xtr, Xte, Ytr = get_data()"
   ]
  },
  {
   "cell_type": "markdown",
   "metadata": {},
   "source": [
    "## Hyperparameter tuning"
   ]
  },
  {
   "cell_type": "code",
   "execution_count": 3,
   "metadata": {},
   "outputs": [],
   "source": [
    "Xtr_, Xval_, Ytr_, Yval_ = train_test_split(Xtr, Ytr, test_size=0.1, random_state=123)\n",
    "Xtr_tensor_ = array_to_tensor(Xtr_)\n",
    "Xval_tensor_ = array_to_tensor(Xval_)"
   ]
  },
  {
   "cell_type": "code",
   "execution_count": null,
   "metadata": {},
   "outputs": [],
   "source": [
    "# test\n",
    "hog_fun = lambda img: hog(img,\n",
    "    cells_per_block=3,\n",
    "    normalization='L2-Hys',\n",
    ")\n",
    "Xtr_hog_ = np.array([hog_fun(img) for img in tqdm(Xtr_tensor_, desc=\"Computing HOG\")])\n",
    "Xval_hog_ = np.array([hog_fun(img) for img in Xval_tensor_])\n"
   ]
  },
  {
   "cell_type": "code",
   "execution_count": 4,
   "metadata": {},
   "outputs": [
    {
     "name": "stderr",
     "output_type": "stream",
     "text": [
      "Computing HOG: 100%|██████████| 4500/4500 [00:21<00:00, 212.84it/s]\n"
     ]
    },
    {
     "ename": "KeyboardInterrupt",
     "evalue": "",
     "output_type": "error",
     "traceback": [
      "\u001b[1;31m---------------------------------------------------------------------------\u001b[0m",
      "\u001b[1;31mKeyboardInterrupt\u001b[0m                         Traceback (most recent call last)",
      "\u001b[1;32m<ipython-input-4-471dec5d0a74>\u001b[0m in \u001b[0;36m<module>\u001b[1;34m\u001b[0m\n\u001b[0;32m     10\u001b[0m \u001b[1;31m# Xval_hog_ = np.array([hog_fun(img) for img in Xval_tensor_])\u001b[0m\u001b[1;33m\u001b[0m\u001b[1;33m\u001b[0m\u001b[1;33m\u001b[0m\u001b[0m\n\u001b[0;32m     11\u001b[0m \u001b[0mkrr\u001b[0m \u001b[1;33m=\u001b[0m \u001b[0mMultiKRR\u001b[0m\u001b[1;33m(\u001b[0m\u001b[0mkernel\u001b[0m\u001b[1;33m=\u001b[0m\u001b[0mGHIKernel\u001b[0m\u001b[1;33m(\u001b[0m\u001b[0mbeta\u001b[0m\u001b[1;33m=\u001b[0m\u001b[1;36m1.\u001b[0m\u001b[1;33m)\u001b[0m\u001b[1;33m.\u001b[0m\u001b[0mkernel\u001b[0m\u001b[1;33m,\u001b[0m \u001b[0mlambd\u001b[0m\u001b[1;33m=\u001b[0m\u001b[1;36m1e-4\u001b[0m\u001b[1;33m)\u001b[0m\u001b[1;33m\u001b[0m\u001b[1;33m\u001b[0m\u001b[0m\n\u001b[1;32m---> 12\u001b[1;33m \u001b[0mkrr\u001b[0m\u001b[1;33m.\u001b[0m\u001b[0mfit\u001b[0m\u001b[1;33m(\u001b[0m\u001b[0mXtr_hog_\u001b[0m\u001b[1;33m,\u001b[0m \u001b[0mYtr_\u001b[0m\u001b[1;33m)\u001b[0m\u001b[1;33m\u001b[0m\u001b[1;33m\u001b[0m\u001b[0m\n\u001b[0m\u001b[0;32m     13\u001b[0m \u001b[0mprint\u001b[0m\u001b[1;33m(\u001b[0m\u001b[1;34m\"accuracy:\"\u001b[0m\u001b[1;33m,\u001b[0m \u001b[0maccuracy\u001b[0m\u001b[1;33m(\u001b[0m\u001b[0mYval_\u001b[0m\u001b[1;33m,\u001b[0m \u001b[0mkrr\u001b[0m\u001b[1;33m.\u001b[0m\u001b[0mpredict\u001b[0m\u001b[1;33m(\u001b[0m\u001b[0mXval_hog_\u001b[0m\u001b[1;33m)\u001b[0m\u001b[1;33m)\u001b[0m\u001b[1;33m)\u001b[0m\u001b[1;33m\u001b[0m\u001b[1;33m\u001b[0m\u001b[0m\n",
      "\u001b[1;32mc:\\Users\\theo\\repos\\mva\\kernel-methods-challenge\\models.py\u001b[0m in \u001b[0;36mfit\u001b[1;34m(self, X, y)\u001b[0m\n\u001b[0;32m     33\u001b[0m     \u001b[1;32mdef\u001b[0m \u001b[0mfit\u001b[0m\u001b[1;33m(\u001b[0m\u001b[0mself\u001b[0m\u001b[1;33m,\u001b[0m \u001b[0mX\u001b[0m\u001b[1;33m,\u001b[0m \u001b[0my\u001b[0m\u001b[1;33m)\u001b[0m\u001b[1;33m:\u001b[0m\u001b[1;33m\u001b[0m\u001b[1;33m\u001b[0m\u001b[0m\n\u001b[0;32m     34\u001b[0m         \u001b[0mself\u001b[0m\u001b[1;33m.\u001b[0m\u001b[0mX\u001b[0m \u001b[1;33m=\u001b[0m \u001b[0mX\u001b[0m\u001b[1;33m\u001b[0m\u001b[1;33m\u001b[0m\u001b[0m\n\u001b[1;32m---> 35\u001b[1;33m         \u001b[0mK\u001b[0m \u001b[1;33m=\u001b[0m \u001b[0mself\u001b[0m\u001b[1;33m.\u001b[0m\u001b[0mkernel\u001b[0m\u001b[1;33m(\u001b[0m\u001b[0mX\u001b[0m\u001b[1;33m,\u001b[0m\u001b[0mX\u001b[0m\u001b[1;33m)\u001b[0m\u001b[1;33m\u001b[0m\u001b[1;33m\u001b[0m\u001b[0m\n\u001b[0m\u001b[0;32m     36\u001b[0m         \u001b[1;32mfor\u001b[0m \u001b[0mkrr\u001b[0m \u001b[1;32min\u001b[0m \u001b[0mtqdm\u001b[0m\u001b[1;33m(\u001b[0m\u001b[0mself\u001b[0m\u001b[1;33m.\u001b[0m\u001b[0mKRR_list\u001b[0m\u001b[1;33m,\u001b[0m \u001b[0mdesc\u001b[0m\u001b[1;33m=\u001b[0m\u001b[1;34m\"Fitting\"\u001b[0m\u001b[1;33m)\u001b[0m\u001b[1;33m:\u001b[0m\u001b[1;33m\u001b[0m\u001b[1;33m\u001b[0m\u001b[0m\n\u001b[0;32m     37\u001b[0m             \u001b[0mkrr\u001b[0m\u001b[1;33m.\u001b[0m\u001b[0mfit\u001b[0m\u001b[1;33m(\u001b[0m\u001b[0my\u001b[0m\u001b[1;33m,\u001b[0m \u001b[0mK\u001b[0m\u001b[1;33m)\u001b[0m\u001b[1;33m\u001b[0m\u001b[1;33m\u001b[0m\u001b[0m\n",
      "\u001b[1;32mc:\\Users\\theo\\repos\\mva\\kernel-methods-challenge\\kernels.py\u001b[0m in \u001b[0;36mkernel\u001b[1;34m(self, X, Y)\u001b[0m\n\u001b[0;32m    133\u001b[0m         \u001b[1;32mfor\u001b[0m \u001b[0mi\u001b[0m \u001b[1;32min\u001b[0m \u001b[0mrange\u001b[0m\u001b[1;33m(\u001b[0m\u001b[0mX\u001b[0m\u001b[1;33m.\u001b[0m\u001b[0mshape\u001b[0m\u001b[1;33m[\u001b[0m\u001b[1;36m0\u001b[0m\u001b[1;33m]\u001b[0m\u001b[1;33m)\u001b[0m\u001b[1;33m:\u001b[0m\u001b[1;33m\u001b[0m\u001b[1;33m\u001b[0m\u001b[0m\n\u001b[0;32m    134\u001b[0m             \u001b[1;32mfor\u001b[0m \u001b[0mj\u001b[0m \u001b[1;32min\u001b[0m \u001b[0mrange\u001b[0m\u001b[1;33m(\u001b[0m\u001b[0mY\u001b[0m\u001b[1;33m.\u001b[0m\u001b[0mshape\u001b[0m\u001b[1;33m[\u001b[0m\u001b[1;36m0\u001b[0m\u001b[1;33m]\u001b[0m\u001b[1;33m)\u001b[0m\u001b[1;33m:\u001b[0m\u001b[1;33m\u001b[0m\u001b[1;33m\u001b[0m\u001b[0m\n\u001b[1;32m--> 135\u001b[1;33m                 \u001b[0mK\u001b[0m\u001b[1;33m[\u001b[0m\u001b[0mi\u001b[0m\u001b[1;33m,\u001b[0m\u001b[0mj\u001b[0m\u001b[1;33m]\u001b[0m \u001b[1;33m=\u001b[0m \u001b[0mnp\u001b[0m\u001b[1;33m.\u001b[0m\u001b[0mminimum\u001b[0m\u001b[1;33m(\u001b[0m\u001b[0mnp\u001b[0m\u001b[1;33m.\u001b[0m\u001b[0mpower\u001b[0m\u001b[1;33m(\u001b[0m\u001b[0mnp\u001b[0m\u001b[1;33m.\u001b[0m\u001b[0mabs\u001b[0m\u001b[1;33m(\u001b[0m\u001b[0mX\u001b[0m\u001b[1;33m[\u001b[0m\u001b[0mi\u001b[0m\u001b[1;33m]\u001b[0m\u001b[1;33m)\u001b[0m\u001b[1;33m,\u001b[0m \u001b[0mself\u001b[0m\u001b[1;33m.\u001b[0m\u001b[0mbeta\u001b[0m\u001b[1;33m)\u001b[0m\u001b[1;33m,\u001b[0m \u001b[0mnp\u001b[0m\u001b[1;33m.\u001b[0m\u001b[0mpower\u001b[0m\u001b[1;33m(\u001b[0m\u001b[0mnp\u001b[0m\u001b[1;33m.\u001b[0m\u001b[0mabs\u001b[0m\u001b[1;33m(\u001b[0m\u001b[0mY\u001b[0m\u001b[1;33m[\u001b[0m\u001b[0mj\u001b[0m\u001b[1;33m]\u001b[0m\u001b[1;33m)\u001b[0m\u001b[1;33m,\u001b[0m \u001b[0mself\u001b[0m\u001b[1;33m.\u001b[0m\u001b[0mbeta\u001b[0m\u001b[1;33m)\u001b[0m\u001b[1;33m)\u001b[0m\u001b[1;33m.\u001b[0m\u001b[0msum\u001b[0m\u001b[1;33m(\u001b[0m\u001b[1;33m)\u001b[0m\u001b[1;33m\u001b[0m\u001b[1;33m\u001b[0m\u001b[0m\n\u001b[0m\u001b[0;32m    136\u001b[0m         \u001b[1;32mreturn\u001b[0m \u001b[0mK\u001b[0m\u001b[1;33m\u001b[0m\u001b[1;33m\u001b[0m\u001b[0m\n",
      "\u001b[1;31mKeyboardInterrupt\u001b[0m: "
     ]
    }
   ],
   "source": [
    "krr = MultiKRR(kernel=GHIKernel(beta=1.).kernel, lambd=1e-4)\n",
    "krr.fit(Xtr_hog_, Ytr_)\n",
    "print(\"accuracy:\", accuracy(Yval_, krr.predict(Xval_hog_)))"
   ]
  },
  {
   "cell_type": "code",
   "execution_count": 5,
   "metadata": {},
   "outputs": [],
   "source": [
    "def get_sweep_id(parameters):\n",
    "    \"\"\"https://docs.wandb.ai/guides/sweeps/configuration\"\"\"\n",
    "    sweep_config = {\n",
    "        'method': \"bayes\",\n",
    "        'metric': {\n",
    "          'name': 'accuracy',\n",
    "          'goal': 'maximize'\n",
    "        },\n",
    "        'parameters': parameters\n",
    "    }\n",
    "    sweep_id = wandb.sweep(sweep_config, project='kernel-challenge-final')\n",
    "\n",
    "    return sweep_id"
   ]
  },
  {
   "cell_type": "code",
   "execution_count": 6,
   "metadata": {},
   "outputs": [],
   "source": [
    "import math\n",
    "\n",
    "def one_run():\n",
    "    wandb.init(project='kernel-challenge-final', entity='theodumont', tags=[\"HOG+KRR\"])\n",
    "    # kernel =============================================================================\n",
    "    kernel_name = wandb.config.kernel_name\n",
    "    if kernel_name == \"GaussianKernel\":\n",
    "        kernel = GaussianKernel(sigma=wandb.config.sigma).kernel\n",
    "    elif kernel_name == \"LogKernel\":\n",
    "        kernel = LogKernel(d=wandb.config.d).kernel\n",
    "    elif kernel_name == \"GHIKernel\":\n",
    "        kernel = GHIKernel(beta=wandb.config.beta).kernel\n",
    "    elif kernel_name == \"WaveletKernel\":\n",
    "        pass\n",
    "    \n",
    "    # model ==============================================================================\n",
    "    krr = MultiKRR(\n",
    "        kernel=kernel,\n",
    "        lambd=wandb.config.lambd,\n",
    "    )\n",
    "    krr.fit(Xtr_hog_, Ytr_)\n",
    "    wandb.run.summary[\"accuracy\"] = accuracy(Yval_, krr.predict(Xval_hog_))"
   ]
  },
  {
   "cell_type": "code",
   "execution_count": 8,
   "metadata": {},
   "outputs": [
    {
     "name": "stdout",
     "output_type": "stream",
     "text": [
      "Create sweep with ID: e5enugkd\n",
      "Sweep URL: https://wandb.ai/theodumont/kernel-challenge-final/sweeps/e5enugkd\n",
      "env: WANDB_SILENT=True\n"
     ]
    },
    {
     "name": "stderr",
     "output_type": "stream",
     "text": [
      "\u001b[34m\u001b[1mwandb\u001b[0m: Agent Starting Run: dqyul4is with config:\n",
      "\u001b[34m\u001b[1mwandb\u001b[0m: \tcells_per_block: 3\n",
      "\u001b[34m\u001b[1mwandb\u001b[0m: \td: 1\n",
      "\u001b[34m\u001b[1mwandb\u001b[0m: \tkernel_name: LogKernel\n",
      "\u001b[34m\u001b[1mwandb\u001b[0m: \tlambd: 1.2653316374256873e-05\n",
      "\u001b[34m\u001b[1mwandb\u001b[0m: \tnormalization: L2-Hys\n",
      "Fitting: 100%|██████████| 10/10 [00:34<00:00,  3.46s/it]\n",
      "Fitting: 100%|██████████| 10/10 [01:03<00:00,  6.30s/it]\n",
      "Fitting: 100%|██████████| 10/10 [01:05<00:00,  6.55s/it]\n",
      "Fitting: 100%|██████████| 10/10 [01:18<00:00,  7.80s/it]\n",
      "Fitting: 100%|██████████| 10/10 [01:11<00:00,  7.13s/it]\n",
      "Fitting: 100%|██████████| 10/10 [01:01<00:00,  6.13s/it]\n",
      "Fitting: 100%|██████████| 10/10 [01:10<00:00,  7.09s/it]\n",
      "Fitting: 100%|██████████| 10/10 [01:04<00:00,  6.49s/it]\n",
      "Fitting: 100%|██████████| 10/10 [01:02<00:00,  6.26s/it]\n",
      "Fitting:  50%|█████     | 5/10 [00:50<00:54, 10.82s/it]"
     ]
    }
   ],
   "source": [
    "parameters = {\n",
    "    'lambd': {\n",
    "        'distribution': 'log_uniform',\n",
    "        'min': math.log(1e-5),\n",
    "        'max': math.log(1e-3),\n",
    "        # 'value': 1e-4\n",
    "    },\n",
    "    'cells_per_block': {\n",
    "        'value': 3,\n",
    "    },\n",
    "    'normalization': {\n",
    "        'value': 'L2-Hys',\n",
    "    },\n",
    "    # kernel -----------------------------------------------------------------------------\n",
    "    'kernel_name': {\n",
    "        'value': \"GHIKernel\",\n",
    "        # 'values': [\"GaussianKernel\", \"WaveletKernel\", \"LogKernel\", \"GHIKernel\"],\n",
    "    },\n",
    "    # 'd': {\n",
    "    #     'values': [1,2],\n",
    "    # },\n",
    "    'beta': {\n",
    "        'distribution': 'log_uniform',\n",
    "        'min': math.log(1e-1),\n",
    "        'max': math.log(1e1),\n",
    "    },\n",
    "}\n",
    "sweep_id = get_sweep_id(parameters)\n",
    "%env WANDB_SILENT=True\n",
    "\n",
    "# sweep_id = \"2rx2v24s\"\n",
    "wandb.agent(sweep_id, function=one_run)"
   ]
  },
  {
   "cell_type": "markdown",
   "metadata": {},
   "source": [
    "## Predictions"
   ]
  },
  {
   "cell_type": "code",
   "execution_count": 5,
   "metadata": {},
   "outputs": [
    {
     "name": "stderr",
     "output_type": "stream",
     "text": [
      "Computing HOG: 100%|██████████| 5000/5000 [00:24<00:00, 202.81it/s]\n",
      "Fitting: 100%|██████████| 10/10 [01:02<00:00,  6.29s/it]\n"
     ]
    },
    {
     "name": "stdout",
     "output_type": "stream",
     "text": [
      "accuracy on training set: 1.0\n"
     ]
    }
   ],
   "source": [
    "Xtr_tensor = array_to_tensor(Xtr)\n",
    "Xte_tensor = array_to_tensor(Xte)\n",
    "hog_fun = lambda img: hog(img,\n",
    "    cells_per_block=3,\n",
    "    normalization='L2-Hys',\n",
    ")\n",
    "Xtr_hog = np.array([hog_fun(img) for img in tqdm(Xtr_tensor, desc=\"Computing HOG\")])\n",
    "Xte_hog = np.array([hog_fun(img) for img in Xte_tensor])\n",
    "krr = MultiKRR(kernel=LogKernel(d=2).kernel, lambd=4e-5)\n",
    "krr.fit(Xtr_hog, Ytr)\n",
    "hog_fun = lambda img: hog(img,\n",
    "    cells_per_block=3,\n",
    "    normalization='L2-Hys',\n",
    ")\n",
    "print(f\"accuracy on training set: {accuracy(Ytr, krr.predict(Xtr_hog))}\")\n",
    "Yte = krr.predict(Xte_hog)\n",
    "save_Yte(Yte, model_name=\"HOG_Log_MultiKRR_1\")"
   ]
  },
  {
   "cell_type": "code",
   "execution_count": null,
   "metadata": {},
   "outputs": [],
   "source": []
  }
 ],
 "metadata": {
  "interpreter": {
   "hash": "aa30f91dbb17c0a3b91780755c9c6907c421c361796d059d67ffdc7b39984a01"
  },
  "kernelspec": {
   "display_name": "Python 3.8.0 ('mit-torch')",
   "language": "python",
   "name": "python3"
  },
  "language_info": {
   "codemirror_mode": {
    "name": "ipython",
    "version": 3
   },
   "file_extension": ".py",
   "mimetype": "text/x-python",
   "name": "python",
   "nbconvert_exporter": "python",
   "pygments_lexer": "ipython3",
   "version": "3.8.0"
  },
  "orig_nbformat": 4
 },
 "nbformat": 4,
 "nbformat_minor": 2
}
