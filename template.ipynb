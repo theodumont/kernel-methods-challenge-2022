{
 "cells": [
  {
   "cell_type": "code",
   "execution_count": null,
   "metadata": {},
   "outputs": [],
   "source": [
    "import numpy as np\n",
    "from utils import get_data, accuracy, save_Yte, get_sweep_id\n",
    "from kernels import GaussianKernel, LinearKernel\n",
    "from tqdm import tqdm\n",
    "import wandb\n",
    "import math\n",
    "from sklearn.model_selection import train_test_split \n"
   ]
  },
  {
   "cell_type": "markdown",
   "metadata": {},
   "source": [
    "## Creating model"
   ]
  },
  {
   "cell_type": "code",
   "execution_count": null,
   "metadata": {},
   "outputs": [],
   "source": [
    "class Model:\n",
    "\n",
    "    def __init__(self, kernel):\n",
    "        pass\n",
    "\n",
    "    def fit(self, X, y):\n",
    "        pass\n",
    "    \n",
    "    def predict(self, x):\n",
    "        pass"
   ]
  },
  {
   "cell_type": "markdown",
   "metadata": {},
   "source": [
    "## Hyperparameter search"
   ]
  },
  {
   "cell_type": "code",
   "execution_count": null,
   "metadata": {},
   "outputs": [],
   "source": [
    "Xtr, Xte, Ytr = get_data()\n",
    "Xtr_, Xval_, Ytr_, Yval_ = train_test_split(Xtr, Ytr, test_size=0.1, random_state=123)"
   ]
  },
  {
   "cell_type": "code",
   "execution_count": null,
   "metadata": {},
   "outputs": [],
   "source": [
    "def one_run():\n",
    "    \"\"\"Perform one run. Will be used with get_sweep_id.\"\"\"\n",
    "    wandb.init(\n",
    "        project='kernel-challenge',  # nom du projet\n",
    "        entity='theodumont',         # mon compte\n",
    "        tags=[\"Model name\"],                # nom du modèle\n",
    "    )\n",
    "    # on récupère les paramètres\n",
    "    sigma = wandb.config.sigma\n",
    "    lambd = wandb.config.lambd\n",
    "    # on crée le modèle\n",
    "    model = Model(kernel=GaussianKernel(sigma=sigma).kernel, lambd=lambd)\n",
    "    # on le fit\n",
    "    model.fit(Xtr_, Ytr_)\n",
    "    # on évalue son accuracy et on la store dans le run sur wandb\n",
    "    wandb.run.summary[\"accuracy\"] = accuracy(Yval_, model.predict(Xval_))\n",
    "    \n",
    "# spécifier le nom range des hyperparamètres, avec 'uniform' ou 'log_uniform\n",
    "parameters = {\n",
    "    'sigma': {\n",
    "        'distribution': 'log_uniform',\n",
    "        'min': math.log(1e-4),\n",
    "        'max': math.log(1e2),\n",
    "    },\n",
    "}\n",
    "\n",
    "sweep_id = get_sweep_id(parameters)\n",
    "%env WANDB_SILENT=False\n",
    "\n",
    "wandb.agent(sweep_id, function=one_run)"
   ]
  },
  {
   "cell_type": "markdown",
   "metadata": {},
   "source": [
    "## Making a submission"
   ]
  },
  {
   "cell_type": "code",
   "execution_count": null,
   "metadata": {},
   "outputs": [],
   "source": [
    "model = Model(params)\n",
    "model.fit(Xtr, Ytr)\n",
    "Yte = model.predict(Xte)\n",
    "save_Yte(Yte, model_name=\"model_name\")"
   ]
  }
 ],
 "metadata": {
  "language_info": {
   "name": "python"
  },
  "orig_nbformat": 4
 },
 "nbformat": 4,
 "nbformat_minor": 2
}
